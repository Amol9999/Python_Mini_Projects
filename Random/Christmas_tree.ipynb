{
  "nbformat": 4,
  "nbformat_minor": 0,
  "metadata": {
    "colab": {
      "provenance": [],
      "authorship_tag": "ABX9TyOYdso4dqd2qqMDcxRefueP",
      "include_colab_link": true
    },
    "kernelspec": {
      "name": "python3",
      "display_name": "Python 3"
    },
    "language_info": {
      "name": "python"
    }
  },
  "cells": [
    {
      "cell_type": "markdown",
      "metadata": {
        "id": "view-in-github",
        "colab_type": "text"
      },
      "source": [
        "<a href=\"https://colab.research.google.com/github/Amol9999/Python_Mini_Projects/blob/main/Random/Christmas_tree.ipynb\" target=\"_parent\"><img src=\"https://colab.research.google.com/assets/colab-badge.svg\" alt=\"Open In Colab\"/></a>"
      ]
    },
    {
      "cell_type": "code",
      "source": [
        "# define the tree function\n",
        "def tree(height):\n",
        "  # base case\n",
        "  if height == 0:\n",
        "    return\n",
        "\n",
        "  # print the tree branches in green\n",
        "  for i in range(height):\n",
        "    # print the spaces\n",
        "    for j in range(height - i - 1):\n",
        "      print(\" \", end=\"\")\n",
        "    # print the tree branches\n",
        "    for k in range(2 * i + 1):\n",
        "      # make the top-most star golden\n",
        "      if i == 0:\n",
        "        print(\"\\033[1;33m*\\033[0m\", end=\"\")\n",
        "      else:\n",
        "        print(\"\\033[1;32m*\\033[0m\", end=\"\")\n",
        "    # move to the next line\n",
        "    print()\n",
        "\n",
        "# print the tree trunk in brown\n",
        "def trunk(height, width):\n",
        "  for i in range(height):\n",
        "    # print the spaces to center the trunk\n",
        "    for j in range((width - 3) // 2):\n",
        "      print(\" \", end=\"\")\n",
        "    print(\"\\033[0;33m|||\\033[0m\")\n",
        "\n",
        "# test the tree function with a larger height\n",
        "tree(10)\n",
        "trunk(3, 2 * 10 - 1)\n"
      ],
      "metadata": {
        "colab": {
          "base_uri": "https://localhost:8080/"
        },
        "id": "Xa7jRgE-sXX2",
        "outputId": "db033826-07d8-42ab-adf1-967b91cb5137"
      },
      "execution_count": null,
      "outputs": [
        {
          "output_type": "stream",
          "name": "stdout",
          "text": [
            "         \u001b[1;33m*\u001b[0m\n",
            "        \u001b[1;32m*\u001b[0m\u001b[1;32m*\u001b[0m\u001b[1;32m*\u001b[0m\n",
            "       \u001b[1;32m*\u001b[0m\u001b[1;32m*\u001b[0m\u001b[1;32m*\u001b[0m\u001b[1;32m*\u001b[0m\u001b[1;32m*\u001b[0m\n",
            "      \u001b[1;32m*\u001b[0m\u001b[1;32m*\u001b[0m\u001b[1;32m*\u001b[0m\u001b[1;32m*\u001b[0m\u001b[1;32m*\u001b[0m\u001b[1;32m*\u001b[0m\u001b[1;32m*\u001b[0m\n",
            "     \u001b[1;32m*\u001b[0m\u001b[1;32m*\u001b[0m\u001b[1;32m*\u001b[0m\u001b[1;32m*\u001b[0m\u001b[1;32m*\u001b[0m\u001b[1;32m*\u001b[0m\u001b[1;32m*\u001b[0m\u001b[1;32m*\u001b[0m\u001b[1;32m*\u001b[0m\n",
            "    \u001b[1;32m*\u001b[0m\u001b[1;32m*\u001b[0m\u001b[1;32m*\u001b[0m\u001b[1;32m*\u001b[0m\u001b[1;32m*\u001b[0m\u001b[1;32m*\u001b[0m\u001b[1;32m*\u001b[0m\u001b[1;32m*\u001b[0m\u001b[1;32m*\u001b[0m\u001b[1;32m*\u001b[0m\u001b[1;32m*\u001b[0m\n",
            "   \u001b[1;32m*\u001b[0m\u001b[1;32m*\u001b[0m\u001b[1;32m*\u001b[0m\u001b[1;32m*\u001b[0m\u001b[1;32m*\u001b[0m\u001b[1;32m*\u001b[0m\u001b[1;32m*\u001b[0m\u001b[1;32m*\u001b[0m\u001b[1;32m*\u001b[0m\u001b[1;32m*\u001b[0m\u001b[1;32m*\u001b[0m\u001b[1;32m*\u001b[0m\u001b[1;32m*\u001b[0m\n",
            "  \u001b[1;32m*\u001b[0m\u001b[1;32m*\u001b[0m\u001b[1;32m*\u001b[0m\u001b[1;32m*\u001b[0m\u001b[1;32m*\u001b[0m\u001b[1;32m*\u001b[0m\u001b[1;32m*\u001b[0m\u001b[1;32m*\u001b[0m\u001b[1;32m*\u001b[0m\u001b[1;32m*\u001b[0m\u001b[1;32m*\u001b[0m\u001b[1;32m*\u001b[0m\u001b[1;32m*\u001b[0m\u001b[1;32m*\u001b[0m\u001b[1;32m*\u001b[0m\n",
            " \u001b[1;32m*\u001b[0m\u001b[1;32m*\u001b[0m\u001b[1;32m*\u001b[0m\u001b[1;32m*\u001b[0m\u001b[1;32m*\u001b[0m\u001b[1;32m*\u001b[0m\u001b[1;32m*\u001b[0m\u001b[1;32m*\u001b[0m\u001b[1;32m*\u001b[0m\u001b[1;32m*\u001b[0m\u001b[1;32m*\u001b[0m\u001b[1;32m*\u001b[0m\u001b[1;32m*\u001b[0m\u001b[1;32m*\u001b[0m\u001b[1;32m*\u001b[0m\u001b[1;32m*\u001b[0m\u001b[1;32m*\u001b[0m\n",
            "\u001b[1;32m*\u001b[0m\u001b[1;32m*\u001b[0m\u001b[1;32m*\u001b[0m\u001b[1;32m*\u001b[0m\u001b[1;32m*\u001b[0m\u001b[1;32m*\u001b[0m\u001b[1;32m*\u001b[0m\u001b[1;32m*\u001b[0m\u001b[1;32m*\u001b[0m\u001b[1;32m*\u001b[0m\u001b[1;32m*\u001b[0m\u001b[1;32m*\u001b[0m\u001b[1;32m*\u001b[0m\u001b[1;32m*\u001b[0m\u001b[1;32m*\u001b[0m\u001b[1;32m*\u001b[0m\u001b[1;32m*\u001b[0m\u001b[1;32m*\u001b[0m\u001b[1;32m*\u001b[0m\n",
            "        \u001b[0;33m|||\u001b[0m\n",
            "        \u001b[0;33m|||\u001b[0m\n",
            "        \u001b[0;33m|||\u001b[0m\n"
          ]
        }
      ]
    }
  ]
}